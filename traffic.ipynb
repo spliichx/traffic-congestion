{
 "cells": [
  {
   "cell_type": "code",
   "execution_count": 3,
   "source": [
    "import os\r\n",
    "import numpy as np\r\n",
    "import pandas as pd\r\n",
    "import seaborn as sns\r\n",
    "import matplotlib.pyplot as plt\r\n",
    "import seaborn as sns\r\n",
    "from sklearn.preprocessing import LabelEncoder\r\n",
    "from sklearn.preprocessing import StandardScaler\r\n",
    "from sklearn.decomposition import PCA\r\n",
    "from sklearn.manifold import TSNE\r\n",
    "from sklearn.model_selection import train_test_split, GridSearchCV, cross_val_score, KFold, RepeatedKFold"
   ],
   "outputs": [],
   "metadata": {}
  },
  {
   "cell_type": "code",
   "execution_count": 1,
   "source": [
    "import warnings\r\n",
    "warnings.simplefilter(action='ignore', category=FutureWarning)"
   ],
   "outputs": [],
   "metadata": {}
  },
  {
   "cell_type": "code",
   "execution_count": 5,
   "source": [
    "train = pd.read_csv('../bigquery-geotab-intersection-congestion/train.csv')\r\n",
    "test = pd.read_csv('../bigquery-geotab-intersection-congestion/test.csv')\r\n",
    "train.head()"
   ],
   "outputs": [
    {
     "output_type": "execute_result",
     "data": {
      "text/plain": [
       "     RowId  IntersectionId   Latitude  Longitude  \\\n",
       "0  1921357               0  33.791659 -84.430032   \n",
       "1  1921358               0  33.791659 -84.430032   \n",
       "2  1921359               0  33.791659 -84.430032   \n",
       "3  1921360               0  33.791659 -84.430032   \n",
       "4  1921361               0  33.791659 -84.430032   \n",
       "\n",
       "                EntryStreetName                ExitStreetName EntryHeading  \\\n",
       "0  Marietta Boulevard Northwest  Marietta Boulevard Northwest           NW   \n",
       "1  Marietta Boulevard Northwest  Marietta Boulevard Northwest           SE   \n",
       "2  Marietta Boulevard Northwest  Marietta Boulevard Northwest           NW   \n",
       "3  Marietta Boulevard Northwest  Marietta Boulevard Northwest           SE   \n",
       "4  Marietta Boulevard Northwest  Marietta Boulevard Northwest           NW   \n",
       "\n",
       "  ExitHeading  Hour  Weekend  ...  TimeFromFirstStop_p40  \\\n",
       "0          NW     0        0  ...                    0.0   \n",
       "1          SE     0        0  ...                    0.0   \n",
       "2          NW     1        0  ...                    0.0   \n",
       "3          SE     1        0  ...                    0.0   \n",
       "4          NW     2        0  ...                    0.0   \n",
       "\n",
       "  TimeFromFirstStop_p50  TimeFromFirstStop_p60  TimeFromFirstStop_p80  \\\n",
       "0                   0.0                    0.0                    0.0   \n",
       "1                   0.0                    0.0                    0.0   \n",
       "2                   0.0                    0.0                    0.0   \n",
       "3                   0.0                    0.0                    0.0   \n",
       "4                   0.0                    0.0                    0.0   \n",
       "\n",
       "   DistanceToFirstStop_p20  DistanceToFirstStop_p40  DistanceToFirstStop_p50  \\\n",
       "0                      0.0                      0.0                      0.0   \n",
       "1                      0.0                      0.0                      0.0   \n",
       "2                      0.0                      0.0                      0.0   \n",
       "3                      0.0                      0.0                      0.0   \n",
       "4                      0.0                      0.0                      0.0   \n",
       "\n",
       "   DistanceToFirstStop_p60  DistanceToFirstStop_p80     City  \n",
       "0                      0.0                      0.0  Atlanta  \n",
       "1                      0.0                      0.0  Atlanta  \n",
       "2                      0.0                      0.0  Atlanta  \n",
       "3                      0.0                      0.0  Atlanta  \n",
       "4                      0.0                      0.0  Atlanta  \n",
       "\n",
       "[5 rows x 28 columns]"
      ],
      "text/html": [
       "<div>\n",
       "<style scoped>\n",
       "    .dataframe tbody tr th:only-of-type {\n",
       "        vertical-align: middle;\n",
       "    }\n",
       "\n",
       "    .dataframe tbody tr th {\n",
       "        vertical-align: top;\n",
       "    }\n",
       "\n",
       "    .dataframe thead th {\n",
       "        text-align: right;\n",
       "    }\n",
       "</style>\n",
       "<table border=\"1\" class=\"dataframe\">\n",
       "  <thead>\n",
       "    <tr style=\"text-align: right;\">\n",
       "      <th></th>\n",
       "      <th>RowId</th>\n",
       "      <th>IntersectionId</th>\n",
       "      <th>Latitude</th>\n",
       "      <th>Longitude</th>\n",
       "      <th>EntryStreetName</th>\n",
       "      <th>ExitStreetName</th>\n",
       "      <th>EntryHeading</th>\n",
       "      <th>ExitHeading</th>\n",
       "      <th>Hour</th>\n",
       "      <th>Weekend</th>\n",
       "      <th>...</th>\n",
       "      <th>TimeFromFirstStop_p40</th>\n",
       "      <th>TimeFromFirstStop_p50</th>\n",
       "      <th>TimeFromFirstStop_p60</th>\n",
       "      <th>TimeFromFirstStop_p80</th>\n",
       "      <th>DistanceToFirstStop_p20</th>\n",
       "      <th>DistanceToFirstStop_p40</th>\n",
       "      <th>DistanceToFirstStop_p50</th>\n",
       "      <th>DistanceToFirstStop_p60</th>\n",
       "      <th>DistanceToFirstStop_p80</th>\n",
       "      <th>City</th>\n",
       "    </tr>\n",
       "  </thead>\n",
       "  <tbody>\n",
       "    <tr>\n",
       "      <th>0</th>\n",
       "      <td>1921357</td>\n",
       "      <td>0</td>\n",
       "      <td>33.791659</td>\n",
       "      <td>-84.430032</td>\n",
       "      <td>Marietta Boulevard Northwest</td>\n",
       "      <td>Marietta Boulevard Northwest</td>\n",
       "      <td>NW</td>\n",
       "      <td>NW</td>\n",
       "      <td>0</td>\n",
       "      <td>0</td>\n",
       "      <td>...</td>\n",
       "      <td>0.0</td>\n",
       "      <td>0.0</td>\n",
       "      <td>0.0</td>\n",
       "      <td>0.0</td>\n",
       "      <td>0.0</td>\n",
       "      <td>0.0</td>\n",
       "      <td>0.0</td>\n",
       "      <td>0.0</td>\n",
       "      <td>0.0</td>\n",
       "      <td>Atlanta</td>\n",
       "    </tr>\n",
       "    <tr>\n",
       "      <th>1</th>\n",
       "      <td>1921358</td>\n",
       "      <td>0</td>\n",
       "      <td>33.791659</td>\n",
       "      <td>-84.430032</td>\n",
       "      <td>Marietta Boulevard Northwest</td>\n",
       "      <td>Marietta Boulevard Northwest</td>\n",
       "      <td>SE</td>\n",
       "      <td>SE</td>\n",
       "      <td>0</td>\n",
       "      <td>0</td>\n",
       "      <td>...</td>\n",
       "      <td>0.0</td>\n",
       "      <td>0.0</td>\n",
       "      <td>0.0</td>\n",
       "      <td>0.0</td>\n",
       "      <td>0.0</td>\n",
       "      <td>0.0</td>\n",
       "      <td>0.0</td>\n",
       "      <td>0.0</td>\n",
       "      <td>0.0</td>\n",
       "      <td>Atlanta</td>\n",
       "    </tr>\n",
       "    <tr>\n",
       "      <th>2</th>\n",
       "      <td>1921359</td>\n",
       "      <td>0</td>\n",
       "      <td>33.791659</td>\n",
       "      <td>-84.430032</td>\n",
       "      <td>Marietta Boulevard Northwest</td>\n",
       "      <td>Marietta Boulevard Northwest</td>\n",
       "      <td>NW</td>\n",
       "      <td>NW</td>\n",
       "      <td>1</td>\n",
       "      <td>0</td>\n",
       "      <td>...</td>\n",
       "      <td>0.0</td>\n",
       "      <td>0.0</td>\n",
       "      <td>0.0</td>\n",
       "      <td>0.0</td>\n",
       "      <td>0.0</td>\n",
       "      <td>0.0</td>\n",
       "      <td>0.0</td>\n",
       "      <td>0.0</td>\n",
       "      <td>0.0</td>\n",
       "      <td>Atlanta</td>\n",
       "    </tr>\n",
       "    <tr>\n",
       "      <th>3</th>\n",
       "      <td>1921360</td>\n",
       "      <td>0</td>\n",
       "      <td>33.791659</td>\n",
       "      <td>-84.430032</td>\n",
       "      <td>Marietta Boulevard Northwest</td>\n",
       "      <td>Marietta Boulevard Northwest</td>\n",
       "      <td>SE</td>\n",
       "      <td>SE</td>\n",
       "      <td>1</td>\n",
       "      <td>0</td>\n",
       "      <td>...</td>\n",
       "      <td>0.0</td>\n",
       "      <td>0.0</td>\n",
       "      <td>0.0</td>\n",
       "      <td>0.0</td>\n",
       "      <td>0.0</td>\n",
       "      <td>0.0</td>\n",
       "      <td>0.0</td>\n",
       "      <td>0.0</td>\n",
       "      <td>0.0</td>\n",
       "      <td>Atlanta</td>\n",
       "    </tr>\n",
       "    <tr>\n",
       "      <th>4</th>\n",
       "      <td>1921361</td>\n",
       "      <td>0</td>\n",
       "      <td>33.791659</td>\n",
       "      <td>-84.430032</td>\n",
       "      <td>Marietta Boulevard Northwest</td>\n",
       "      <td>Marietta Boulevard Northwest</td>\n",
       "      <td>NW</td>\n",
       "      <td>NW</td>\n",
       "      <td>2</td>\n",
       "      <td>0</td>\n",
       "      <td>...</td>\n",
       "      <td>0.0</td>\n",
       "      <td>0.0</td>\n",
       "      <td>0.0</td>\n",
       "      <td>0.0</td>\n",
       "      <td>0.0</td>\n",
       "      <td>0.0</td>\n",
       "      <td>0.0</td>\n",
       "      <td>0.0</td>\n",
       "      <td>0.0</td>\n",
       "      <td>Atlanta</td>\n",
       "    </tr>\n",
       "  </tbody>\n",
       "</table>\n",
       "<p>5 rows × 28 columns</p>\n",
       "</div>"
      ]
     },
     "metadata": {},
     "execution_count": 5
    }
   ],
   "metadata": {}
  },
  {
   "cell_type": "markdown",
   "source": [
    "View test and train shape"
   ],
   "metadata": {}
  },
  {
   "cell_type": "code",
   "execution_count": 10,
   "source": [
    "print(\"train dataset :\",train.shape)\r\n",
    "print(\"test dataset :\", test.shape)"
   ],
   "outputs": [
    {
     "output_type": "stream",
     "name": "stdout",
     "text": [
      "train dataset : (856387, 28)\n",
      "test dataset : (1921357, 13)\n"
     ]
    }
   ],
   "metadata": {}
  },
  {
   "cell_type": "code",
   "execution_count": 11,
   "source": [
    "train.info()"
   ],
   "outputs": [
    {
     "output_type": "stream",
     "name": "stdout",
     "text": [
      "<class 'pandas.core.frame.DataFrame'>\n",
      "RangeIndex: 856387 entries, 0 to 856386\n",
      "Data columns (total 28 columns):\n",
      " #   Column                   Non-Null Count   Dtype  \n",
      "---  ------                   --------------   -----  \n",
      " 0   RowId                    856387 non-null  int64  \n",
      " 1   IntersectionId           856387 non-null  int64  \n",
      " 2   Latitude                 856387 non-null  float64\n",
      " 3   Longitude                856387 non-null  float64\n",
      " 4   EntryStreetName          848239 non-null  object \n",
      " 5   ExitStreetName           850100 non-null  object \n",
      " 6   EntryHeading             856387 non-null  object \n",
      " 7   ExitHeading              856387 non-null  object \n",
      " 8   Hour                     856387 non-null  int64  \n",
      " 9   Weekend                  856387 non-null  int64  \n",
      " 10  Month                    856387 non-null  int64  \n",
      " 11  Path                     856387 non-null  object \n",
      " 12  TotalTimeStopped_p20     856387 non-null  float64\n",
      " 13  TotalTimeStopped_p40     856387 non-null  float64\n",
      " 14  TotalTimeStopped_p50     856387 non-null  float64\n",
      " 15  TotalTimeStopped_p60     856387 non-null  float64\n",
      " 16  TotalTimeStopped_p80     856387 non-null  float64\n",
      " 17  TimeFromFirstStop_p20    856387 non-null  float64\n",
      " 18  TimeFromFirstStop_p40    856387 non-null  float64\n",
      " 19  TimeFromFirstStop_p50    856387 non-null  float64\n",
      " 20  TimeFromFirstStop_p60    856387 non-null  float64\n",
      " 21  TimeFromFirstStop_p80    856387 non-null  float64\n",
      " 22  DistanceToFirstStop_p20  856387 non-null  float64\n",
      " 23  DistanceToFirstStop_p40  856387 non-null  float64\n",
      " 24  DistanceToFirstStop_p50  856387 non-null  float64\n",
      " 25  DistanceToFirstStop_p60  856387 non-null  float64\n",
      " 26  DistanceToFirstStop_p80  856387 non-null  float64\n",
      " 27  City                     856387 non-null  object \n",
      "dtypes: float64(17), int64(5), object(6)\n",
      "memory usage: 182.9+ MB\n"
     ]
    }
   ],
   "metadata": {}
  },
  {
   "cell_type": "code",
   "execution_count": 13,
   "source": [
    "test.info()"
   ],
   "outputs": [
    {
     "output_type": "stream",
     "name": "stdout",
     "text": [
      "<class 'pandas.core.frame.DataFrame'>\n",
      "RangeIndex: 1921357 entries, 0 to 1921356\n",
      "Data columns (total 13 columns):\n",
      " #   Column           Dtype  \n",
      "---  ------           -----  \n",
      " 0   RowId            int64  \n",
      " 1   IntersectionId   int64  \n",
      " 2   Latitude         float64\n",
      " 3   Longitude        float64\n",
      " 4   EntryStreetName  object \n",
      " 5   ExitStreetName   object \n",
      " 6   EntryHeading     object \n",
      " 7   ExitHeading      object \n",
      " 8   Hour             int64  \n",
      " 9   Weekend          int64  \n",
      " 10  Month            int64  \n",
      " 11  Path             object \n",
      " 12  City             object \n",
      "dtypes: float64(2), int64(5), object(6)\n",
      "memory usage: 190.6+ MB\n"
     ]
    }
   ],
   "metadata": {}
  },
  {
   "cell_type": "markdown",
   "source": [
    "### Lets see common Cities between our train and test set"
   ],
   "metadata": {}
  },
  {
   "cell_type": "code",
   "execution_count": 15,
   "source": [
    "print(\"Cities in Train dataset:\", train['City'].unique().tolist())\r\n",
    "print(\"Cities in Test dataset:\", test['City'].unique().tolist())"
   ],
   "outputs": [
    {
     "output_type": "stream",
     "name": "stdout",
     "text": [
      "Cities in Train dataset: ['Atlanta', 'Boston', 'Chicago', 'Philadelphia']\n",
      "Cities in Test dataset: ['Atlanta', 'Boston', 'Chicago', 'Philadelphia']\n"
     ]
    }
   ],
   "metadata": {}
  },
  {
   "cell_type": "code",
   "execution_count": 17,
   "source": [
    "city = train.groupby('City').size()\r\n",
    "city"
   ],
   "outputs": [
    {
     "output_type": "execute_result",
     "data": {
      "text/plain": [
       "City\n",
       "Atlanta         156484\n",
       "Boston          178617\n",
       "Chicago         131049\n",
       "Philadelphia    390237\n",
       "dtype: int64"
      ]
     },
     "metadata": {},
     "execution_count": 17
    }
   ],
   "metadata": {}
  },
  {
   "cell_type": "code",
   "execution_count": 19,
   "source": [
    "city1 = test.groupby('City').size()\r\n",
    "city1"
   ],
   "outputs": [
    {
     "output_type": "execute_result",
     "data": {
      "text/plain": [
       "City\n",
       "Atlanta         341852\n",
       "Boston          409275\n",
       "Chicago         298129\n",
       "Philadelphia    872101\n",
       "dtype: int64"
      ]
     },
     "metadata": {},
     "execution_count": 19
    }
   ],
   "metadata": {}
  },
  {
   "cell_type": "code",
   "execution_count": null,
   "source": [],
   "outputs": [],
   "metadata": {}
  }
 ],
 "metadata": {
  "orig_nbformat": 4,
  "language_info": {
   "name": "python",
   "version": "3.8.5",
   "mimetype": "text/x-python",
   "codemirror_mode": {
    "name": "ipython",
    "version": 3
   },
   "pygments_lexer": "ipython3",
   "nbconvert_exporter": "python",
   "file_extension": ".py"
  },
  "kernelspec": {
   "name": "python3",
   "display_name": "Python 3.8.5 64-bit ('base': conda)"
  },
  "interpreter": {
   "hash": "b4832287f31b7a502ceb77eac165f46b59b96ddcfa528ad0eb35bda3bd17faf3"
  }
 },
 "nbformat": 4,
 "nbformat_minor": 2
}